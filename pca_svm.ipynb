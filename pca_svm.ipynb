{
 "cells": [
  {
   "cell_type": "code",
   "execution_count": 1,
   "metadata": {
    "collapsed": false
   },
   "outputs": [
    {
     "name": "stdout",
     "output_type": "stream",
     "text": [
      "Read training data...\n",
      "Loaded 33600\n"
     ]
    }
   ],
   "source": [
    "import numpy\n",
    "from sklearn.decomposition import PCA\n",
    "from sklearn.svm import SVC\n",
    "from sklearn.cross_validation import train_test_split\n",
    "from sklearn.metrics import accuracy_score\n",
    "\n",
    "print('Read training data...')\n",
    "with open('../input/train.csv', 'r') as reader:\n",
    "    reader.readline()\n",
    "    input_label = []\n",
    "    input_data = []\n",
    "    for line in reader.readlines():\n",
    "        data = list(map(int, line.rstrip().split(',')))\n",
    "        input_label.append(data[0])\n",
    "        input_data.append(data[1:])\n",
    "\n",
    "train_data, test_data, train_label, test_label = train_test_split(input_data, input_label,test_size = 0.2, random_state = 3)\n",
    "print('Loaded ' + str(len(train_label)) + 'testing data' + str(len(test_label)))\n"
   ]
  },
  {
   "cell_type": "code",
   "execution_count": 2,
   "metadata": {
    "collapsed": false
   },
   "outputs": [
    {
     "name": "stdout",
     "output_type": "stream",
     "text": [
      "Reduction...\n"
     ]
    }
   ],
   "source": [
    "print('Reduction...')\n",
    "COMPONENT_NUM = 35\n",
    "\n",
    "train_label = numpy.array(train_label)\n",
    "train_data = numpy.array(train_data)\n",
    "pca = PCA(n_components=COMPONENT_NUM, whiten=True)\n",
    "pca.fit(train_data)\n",
    "train_data = pca.transform(train_data)\n"
   ]
  },
  {
   "cell_type": "code",
   "execution_count": 3,
   "metadata": {
    "collapsed": false
   },
   "outputs": [
    {
     "name": "stdout",
     "output_type": "stream",
     "text": [
      "Train SVM...\n"
     ]
    },
    {
     "data": {
      "text/plain": [
       "SVC(C=1.0, cache_size=200, class_weight=None, coef0=0.0,\n",
       "  decision_function_shape=None, degree=3, gamma='auto', kernel='rbf',\n",
       "  max_iter=-1, probability=False, random_state=None, shrinking=True,\n",
       "  tol=0.001, verbose=False)"
      ]
     },
     "execution_count": 3,
     "metadata": {},
     "output_type": "execute_result"
    }
   ],
   "source": [
    "print('Train SVM...')\n",
    "svc = SVC()\n",
    "svc.fit(train_data, train_label)\n"
   ]
  },
  {
   "cell_type": "code",
   "execution_count": 4,
   "metadata": {
    "collapsed": false
   },
   "outputs": [
    {
     "name": "stdout",
     "output_type": "stream",
     "text": [
      "Predicting...\n",
      "Accuracy score = 0.978928571429\n"
     ]
    }
   ],
   "source": [
    "print('Predicting...')\n",
    "test_data = numpy.array(test_data)\n",
    "test_data = pca.transform(test_data)\n",
    "predict = svc.predict(test_data)\n",
    "\n",
    "accuracy = accuracy_score(test_label, predict)\n",
    "\n",
    "print('Accuracy score = ' + str(accuracy))"
   ]
  },
  {
   "cell_type": "code",
   "execution_count": null,
   "metadata": {
    "collapsed": true
   },
   "outputs": [],
   "source": [
    "\n",
    "\n",
    "\n",
    "\n",
    "\n",
    "\n",
    "\n"
   ]
  },
  {
   "cell_type": "code",
   "execution_count": null,
   "metadata": {
    "collapsed": true
   },
   "outputs": [],
   "source": [
    "print('Reduction...')\n",
    "train_label = numpy.array(train_label)\n",
    "train_data = numpy.array(train_data)\n",
    "pca = PCA(n_components=COMPONENT_NUM, whiten=True)\n",
    "pca.fit(train_data)\n",
    "train_data = pca.transform(train_data)\n",
    "\n",
    "print('Train SVM...')\n",
    "svc = SVC()\n",
    "svc.fit(train_data, train_label)\n",
    "\n",
    "print('Read testing data...')\n",
    "with open('../input/test.csv', 'r') as reader:\n",
    "    reader.readline()\n",
    "    test_data = []\n",
    "    for line in reader.readlines():\n",
    "        pixels = list(map(int, line.rstrip().split(',')))\n",
    "        test_data.append(pixels)\n",
    "print('Loaded ' + str(len(test_data)))\n",
    "\n",
    "print('Predicting...')\n",
    "test_data = numpy.array(test_data)\n",
    "test_data = pca.transform(test_data)\n",
    "predict = svc.predict(test_data)\n",
    "\n",
    "print('Saving...')\n",
    "with open('predict.csv', 'w') as writer:\n",
    "    writer.write('\"ImageId\",\"Label\"\\n')\n",
    "    count = 0\n",
    "    for p in predict:\n",
    "        count += 1\n",
    "        writer.write(str(count) + ',\"' + str(p) + '\"\\n')"
   ]
  }
 ],
 "metadata": {
  "kernelspec": {
   "display_name": "Python 2",
   "language": "python",
   "name": "python2"
  },
  "language_info": {
   "codemirror_mode": {
    "name": "ipython",
    "version": 2
   },
   "file_extension": ".py",
   "mimetype": "text/x-python",
   "name": "python",
   "nbconvert_exporter": "python",
   "pygments_lexer": "ipython2",
   "version": "2.7.10"
  }
 },
 "nbformat": 4,
 "nbformat_minor": 1
}
